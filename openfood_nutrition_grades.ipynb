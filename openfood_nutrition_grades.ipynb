{
 "cells": [
  {
   "cell_type": "markdown",
   "metadata": {
    "deletable": true,
    "editable": true
   },
   "source": [
    "# Configuration"
   ]
  },
  {
   "cell_type": "code",
   "execution_count": null,
   "metadata": {
    "collapsed": true,
    "deletable": true,
    "editable": true
   },
   "outputs": [],
   "source": [
    "CONNECTION_STRING = \"mongodb://localhost:27017\"\n",
    "DATABASE_NAME = \"off\"\n",
    "COLLECTION_NAME = \"products\""
   ]
  },
  {
   "cell_type": "markdown",
   "metadata": {
    "deletable": true,
    "editable": true
   },
   "source": [
    "# MongDB connection"
   ]
  },
  {
   "cell_type": "code",
   "execution_count": null,
   "metadata": {
    "collapsed": false,
    "deletable": true,
    "editable": true,
    "scrolled": false
   },
   "outputs": [],
   "source": [
    "from pymongo import MongoClient\n",
    "from bson.code import Code\n",
    "import plotly, pymongo\n",
    "plotly.offline.init_notebook_mode()\n",
    "from plotly.graph_objs import Bar\n",
    "\n",
    "client = MongoClient(CONNECTION_STRING)\n",
    "db = client[DATABASE_NAME]\n",
    "openfood = db[COLLECTION_NAME]"
   ]
  },
  {
   "cell_type": "markdown",
   "metadata": {
    "deletable": true,
    "editable": true
   },
   "source": [
    "# Nutrition grade"
   ]
  },
  {
   "cell_type": "code",
   "execution_count": null,
   "metadata": {
    "collapsed": false,
    "deletable": true,
    "editable": true,
    "scrolled": true
   },
   "outputs": [],
   "source": [
    "mapper = Code(\"\"\"\n",
    "    function () {\n",
    "        if (typeof this.nutrition_grades !== 'undefined' && this.nutrition_grades !== \"\"){\n",
    "            emit(this.nutrition_grades, 1);\n",
    "        }\n",
    "    }\"\"\")\n",
    "reducer = Code(\"\"\"\n",
    "    function (key, values) {\n",
    "        var total = 0;\n",
    "        for (var i = 0; i < values.length; i++) {\n",
    "            total += values[i];\n",
    "        }\n",
    "        return total;\n",
    "    }\"\"\")\n",
    "\n",
    "grades = openfood.inline_map_reduce(mapper, reducer)\n",
    "print grades"
   ]
  },
  {
   "cell_type": "code",
   "execution_count": null,
   "metadata": {
    "collapsed": false
   },
   "outputs": [],
   "source": [
    "import numpy as np\n",
    "import matplotlib.pyplot as plt\n",
    " \n",
    "objects = [item['_id'] for item in grades] # [a,b,c,d,e]\n",
    "y_pos = np.arange(len(objects))\n",
    "count = [item['value'] for item in grades]\n",
    " \n",
    "plt.bar(y_pos, count, align='center', alpha=0.5)\n",
    "plt.xticks(y_pos, objects)\n",
    "plt.ylabel('Count')\n",
    "plt.title('Nutrition Grades')\n",
    "\n",
    "plt.show()"
   ]
  },
  {
   "cell_type": "markdown",
   "metadata": {
    "collapsed": false,
    "deletable": true,
    "editable": true
   },
   "source": [
    "# Nutrients (100g)"
   ]
  },
  {
   "cell_type": "code",
   "execution_count": null,
   "metadata": {
    "collapsed": false
   },
   "outputs": [],
   "source": [
    "mapper = Code(\"\"\"\n",
    "    function () {\n",
    "        if (typeof this.nutriments !== 'undefined' && this.nutriments !== \"\") {\n",
    "            for (var key in this.nutriments) {\n",
    "                if (key.match(/.*100g/))\n",
    "                    emit(key, null);\n",
    "            }\n",
    "        }\n",
    "    }\"\"\")\n",
    "reducer = Code(\"\"\"\n",
    "    function (key, values) {\n",
    "        return key\n",
    "    }\"\"\")\n",
    "\n",
    "nutriments_100g_fields = openfood.inline_map_reduce(mapper, reducer)\n",
    "for n in nutriments_100g_fields:\n",
    "    print n"
   ]
  },
  {
   "cell_type": "code",
   "execution_count": null,
   "metadata": {
    "collapsed": false
   },
   "outputs": [],
   "source": [
    "for n in nutriments_100g_fields:\n",
    "    print n['_id']"
   ]
  }
 ],
 "metadata": {
  "kernelspec": {
   "display_name": "Python 2",
   "language": "python",
   "name": "python2"
  },
  "language_info": {
   "codemirror_mode": {
    "name": "ipython",
    "version": 2
   },
   "file_extension": ".py",
   "mimetype": "text/x-python",
   "name": "python",
   "nbconvert_exporter": "python",
   "pygments_lexer": "ipython2",
   "version": "2.7.13"
  }
 },
 "nbformat": 4,
 "nbformat_minor": 2
}
