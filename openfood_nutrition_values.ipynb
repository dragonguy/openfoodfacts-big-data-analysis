{
 "cells": [
  {
   "cell_type": "markdown",
   "metadata": {},
   "source": [
    "# Configuration"
   ]
  },
  {
   "cell_type": "code",
   "execution_count": null,
   "metadata": {
    "collapsed": true
   },
   "outputs": [],
   "source": [
    "CONNECTION_STRING = \"mongodb://localhost:27017\"\n",
    "DATABASE_NAME = \"off\"\n",
    "COLLECTION_NAME = \"products\""
   ]
  },
  {
   "cell_type": "markdown",
   "metadata": {
    "deletable": true,
    "editable": true
   },
   "source": [
    "# Nutritional values based on nutritional grade, healthy ingredients, and additives used."
   ]
  },
  {
   "cell_type": "code",
   "execution_count": null,
   "metadata": {
    "collapsed": false,
    "deletable": true,
    "editable": true,
    "scrolled": false
   },
   "outputs": [],
   "source": [
    "from pymongo import MongoClient\n",
    "from bson.code import Code\n",
    "import plotly, pymongo\n",
    "plotly.offline.init_notebook_mode()\n",
    "from plotly.graph_objs import Bar\n",
    "\n",
    "client = MongoClient(CONNECTION_STRING)\n",
    "db = client[DATABASE_NAME]\n",
    "openfood = db[COLLECTION_NAME]"
   ]
  },
  {
   "cell_type": "markdown",
   "metadata": {
    "deletable": true,
    "editable": true
   },
   "source": [
    "In order to calculate nutritional values, we need to search for relevant fields that can be used to statistically calculate nutritional value."
   ]
  },
  {
   "cell_type": "code",
   "execution_count": null,
   "metadata": {
    "collapsed": false,
    "deletable": true,
    "editable": true,
    "scrolled": false
   },
   "outputs": [],
   "source": [
    "mapper = Code(\"\"\"\n",
    "    function () {\n",
    "        for (var key in this) {\n",
    "            emit(key, null);\n",
    "        }\n",
    "    }\"\"\")\n",
    "reducer = Code(\"\"\"\n",
    "    function (key, values) {\n",
    "        return null;\n",
    "    }\"\"\")\n",
    "\n",
    "openfood_fields = openfood.map_reduce(mapper, reducer, \"openfood_fields\")\n",
    "for each in openfood_fields.find():\n",
    "    print each['_id']"
   ]
  },
  {
   "cell_type": "code",
   "execution_count": null,
   "metadata": {
    "collapsed": false,
    "deletable": true,
    "editable": true
   },
   "outputs": [],
   "source": [
    "mapper = Code(\"\"\"\n",
    "    function () {\n",
    "        if (typeof this.nutriments !== 'undefined' && this.nutriments !== \"\") {\n",
    "            for (var key in this.nutriments) {\n",
    "                emit(key, 1);\n",
    "            }\n",
    "        }\n",
    "    }\"\"\")\n",
    "reducer = Code(\"\"\"\n",
    "    function (key, values) {\n",
    "        var total = 0;\n",
    "        for (var i = 0; i < values.length; i++) {\n",
    "            total += values[i];\n",
    "        }\n",
    "        return total;\n",
    "    }\"\"\")\n",
    "\n",
    "openfood_fields = openfood.map_reduce(mapper, reducer, \"nutriments_fields\")\n",
    "for each in openfood_fields.find():\n",
    "    print each['_id'], each['value']"
   ]
  },
  {
   "cell_type": "markdown",
   "metadata": {
    "deletable": true,
    "editable": true
   },
   "source": [
    "Each food entry states the countries which the food it is sold. Below, we try to find out the list of countries which the food are sold."
   ]
  },
  {
   "cell_type": "code",
   "execution_count": null,
   "metadata": {
    "collapsed": false,
    "deletable": true,
    "editable": true
   },
   "outputs": [],
   "source": [
    "# mapper = Code(\"\"\"\n",
    "#     function () {\n",
    "#         if (typeof this.countries_tags !== 'undefined') {\n",
    "#             emit(this.countries_tags[0], 1);\n",
    "#         } else {\n",
    "#             emit(\"None\", 1);\n",
    "#         }\n",
    "        \n",
    "#     }\"\"\")\n",
    "mapper = Code(\"\"\"\n",
    "    function () {\n",
    "        if (typeof this.countries !== 'undefined' && this.countries !== \"\") {\n",
    "            var tmp_split = this.countries.split(\",\");\n",
    "            for (i = 0; i < tmp_split.length; i++) {\n",
    "                emit(tmp_split[i], 1);\n",
    "            }\n",
    "            \n",
    "        } else {\n",
    "            emit(\"None\", 1);\n",
    "        }\n",
    "        \n",
    "    }\"\"\")\n",
    "reducer = Code(\"\"\"\n",
    "    function (key, values) {\n",
    "        var total = 0;\n",
    "        for (var i = 0; i < values.length; i++) {\n",
    "            total += values[i];\n",
    "        }\n",
    "        return total;\n",
    "    }\"\"\")\n",
    "\n",
    "countries_stats = openfood.map_reduce(mapper, reducer, \"food_country_demographic\")\n",
    "for each in countries_stats.find():\n",
    "    print each['_id'], each['value']"
   ]
  },
  {
   "cell_type": "code",
   "execution_count": null,
   "metadata": {
    "collapsed": false,
    "deletable": true,
    "editable": true
   },
   "outputs": [],
   "source": [
    "country = []\n",
    "count = []\n",
    "for each in countries_stats.find().sort('value', pymongo.DESCENDING):\n",
    "    country.append(each['_id'])\n",
    "    count.append(each['value'])\n",
    "data = [Bar(x=country, y=count)]\n",
    "plotly.offline.iplot(data, filename='country-stat-bar')\n",
    "\n",
    "print \"Top 5 countries:\"\n",
    "for i in range(5):\n",
    "    print str(i+1) + \". \" + country[i]"
   ]
  }
 ],
 "metadata": {
  "kernelspec": {
   "display_name": "Python 2",
   "language": "python",
   "name": "python2"
  },
  "language_info": {
   "codemirror_mode": {
    "name": "ipython",
    "version": 2
   },
   "file_extension": ".py",
   "mimetype": "text/x-python",
   "name": "python",
   "nbconvert_exporter": "python",
   "pygments_lexer": "ipython2",
   "version": "2.7.13"
  }
 },
 "nbformat": 4,
 "nbformat_minor": 2
}
